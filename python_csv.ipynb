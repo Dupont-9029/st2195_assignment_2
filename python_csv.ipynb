{
 "cells": [
  {
   "cell_type": "code",
   "execution_count": 22,
   "id": "3e4c8de9-5544-4047-9bf2-657f038e053a",
   "metadata": {},
   "outputs": [],
   "source": [
    "# Library Imports\n",
    "import pandas as pd\n",
    "from bs4 import BeautifulSoup\n",
    "import requests\n",
    "import csv"
   ]
  },
  {
   "cell_type": "code",
   "execution_count": 23,
   "id": "a9365644-97a5-4b79-b4ce-22ad4bcea8d4",
   "metadata": {},
   "outputs": [],
   "source": [
    "csv_wiki= requests.get(\"https://en.wikipedia.org/wiki/Comma-separated_values\")"
   ]
  },
  {
   "cell_type": "code",
   "execution_count": 24,
   "id": "3232f5ac-fa4c-48d2-8db8-566860fa3987",
   "metadata": {},
   "outputs": [
    {
     "name": "stdout",
     "output_type": "stream",
     "text": [
      "   Year   Make                                   Model  \\\n",
      "0  1997   Ford                                    E350   \n",
      "1  1999  Chevy              Venture \"Extended Edition\"   \n",
      "2  1999  Chevy  Venture \"Extended Edition, Very Large\"   \n",
      "3  1996   Jeep                          Grand Cherokee   \n",
      "\n",
      "                         Description   Price  \n",
      "0                      ac, abs, moon  3000.0  \n",
      "1                                NaN  4900.0  \n",
      "2                                NaN  5000.0  \n",
      "3  MUST SELL! air, moon roof, loaded  4799.0  \n"
     ]
    }
   ],
   "source": [
    "#Scraping using pandas and data frames\n",
    "df = pd.read_html('https://en.wikipedia.org/wiki/Comma-separated_values')\n",
    "print(df[1])"
   ]
  },
  {
   "cell_type": "code",
   "execution_count": 25,
   "id": "a2a16774-fde0-4688-b6a0-598e93be93b4",
   "metadata": {},
   "outputs": [
    {
     "name": "stdout",
     "output_type": "stream",
     "text": [
      "Cars CSV Text found:\n",
      "\n",
      "Year,Make,Model,Description,Price\n",
      "1997,Ford,E350,\"ac, abs, moon\",3000.00\n",
      "1999,Chevy,\"Venture \"\"Extended Edition\"\"\",\"\",4900.00\n",
      "1999,Chevy,\"Venture \"\"Extended Edition, Very Large\"\"\",\"\",5000.00\n",
      "1996,Jeep,Grand Cherokee,\"MUST SELL!\n",
      "air, moon roof, loaded\",4799.00\n",
      "\n"
     ]
    }
   ],
   "source": [
    "# Check if the request was successful\n",
    "if csv_wiki.status_code == 200:\n",
    "    # Parse the page content with BeautifulSoup\n",
    "    soup = BeautifulSoup(csv_wiki.content, \"html.parser\")\n",
    "    \n",
    "    # Locate the text inside the HTML element that contains the example CSV text\n",
    "    # On Wikipedia, examples are often in <pre> tags, so let's try to find the <pre> tag that has the CSV content\n",
    "    csv_text = \"\"\n",
    "    for pre_tag in soup.find_all(\"pre\"):\n",
    "        # Checking for CSV data format (lines starting with \"Year,Make,Model...\")\n",
    "        if \"Year,Make,Model,Description,Price\" in pre_tag.text:\n",
    "            csv_text = pre_tag.text\n",
    "            break\n",
    "\n",
    "    # Print the CSV text if found\n",
    "    if csv_text:\n",
    "        print(\"Cars CSV Text found:\\n\")\n",
    "        print(csv_text)\n",
    "    else:\n",
    "        print(\"CSV example text not found on the page.\")     "
   ]
  },
  {
   "cell_type": "code",
   "execution_count": null,
   "id": "f531c64b-0fdc-4328-95f4-74e648deb606",
   "metadata": {},
   "outputs": [],
   "source": []
  }
 ],
 "metadata": {
  "kernelspec": {
   "display_name": "Python 3 (ipykernel)",
   "language": "python",
   "name": "python3"
  },
  "language_info": {
   "codemirror_mode": {
    "name": "ipython",
    "version": 3
   },
   "file_extension": ".py",
   "mimetype": "text/x-python",
   "name": "python",
   "nbconvert_exporter": "python",
   "pygments_lexer": "ipython3",
   "version": "3.12.4"
  }
 },
 "nbformat": 4,
 "nbformat_minor": 5
}
